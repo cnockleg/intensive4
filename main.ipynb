{
 "cells": [
  {
   "cell_type": "markdown",
   "id": "1030efa1",
   "metadata": {},
   "source": [
    "# Данные"
   ]
  },
  {
   "cell_type": "code",
   "execution_count": 3,
   "id": "4387628a",
   "metadata": {},
   "outputs": [
    {
     "data": {
      "text/plain": [
       "'c:\\\\Users\\\\Евгений\\\\OneDrive\\\\Документы\\\\проги'"
      ]
     },
     "execution_count": 3,
     "metadata": {},
     "output_type": "execute_result"
    }
   ],
   "source": [
    "import os\n",
    "os.getcwd()"
   ]
  },
  {
   "cell_type": "code",
   "execution_count": 2,
   "id": "95a6c279",
   "metadata": {},
   "outputs": [
    {
     "ename": "FileNotFoundError",
     "evalue": "[Errno 2] No such file or directory: 'dirty_data.xlsx'",
     "output_type": "error",
     "traceback": [
      "\u001b[1;31m---------------------------------------------------------------------------\u001b[0m",
      "\u001b[1;31mFileNotFoundError\u001b[0m                         Traceback (most recent call last)",
      "Cell \u001b[1;32mIn[2], line 14\u001b[0m\n\u001b[0;32m     10\u001b[0m \u001b[38;5;28;01mfrom\u001b[39;00m \u001b[38;5;21;01msentence_transformers\u001b[39;00m \u001b[38;5;28;01mimport\u001b[39;00m SentenceTransformer\n\u001b[0;32m     11\u001b[0m \u001b[38;5;28;01mfrom\u001b[39;00m \u001b[38;5;21;01miterstrat\u001b[39;00m\u001b[38;5;21;01m.\u001b[39;00m\u001b[38;5;21;01mml_stratifiers\u001b[39;00m \u001b[38;5;28;01mimport\u001b[39;00m MultilabelStratifiedKFold\n\u001b[1;32m---> 14\u001b[0m data \u001b[38;5;241m=\u001b[39m \u001b[43mpd\u001b[49m\u001b[38;5;241;43m.\u001b[39;49m\u001b[43mread_excel\u001b[49m\u001b[43m(\u001b[49m\u001b[38;5;124;43m'\u001b[39;49m\u001b[38;5;124;43mdirty_data.xlsx\u001b[39;49m\u001b[38;5;124;43m'\u001b[39;49m\u001b[43m)\u001b[49m\n",
      "File \u001b[1;32m~\\AppData\\Local\\Packages\\PythonSoftwareFoundation.Python.3.11_qbz5n2kfra8p0\\LocalCache\\local-packages\\Python311\\site-packages\\pandas\\io\\excel\\_base.py:495\u001b[0m, in \u001b[0;36mread_excel\u001b[1;34m(io, sheet_name, header, names, index_col, usecols, dtype, engine, converters, true_values, false_values, skiprows, nrows, na_values, keep_default_na, na_filter, verbose, parse_dates, date_parser, date_format, thousands, decimal, comment, skipfooter, storage_options, dtype_backend, engine_kwargs)\u001b[0m\n\u001b[0;32m    493\u001b[0m \u001b[38;5;28;01mif\u001b[39;00m \u001b[38;5;129;01mnot\u001b[39;00m \u001b[38;5;28misinstance\u001b[39m(io, ExcelFile):\n\u001b[0;32m    494\u001b[0m     should_close \u001b[38;5;241m=\u001b[39m \u001b[38;5;28;01mTrue\u001b[39;00m\n\u001b[1;32m--> 495\u001b[0m     io \u001b[38;5;241m=\u001b[39m \u001b[43mExcelFile\u001b[49m\u001b[43m(\u001b[49m\n\u001b[0;32m    496\u001b[0m \u001b[43m        \u001b[49m\u001b[43mio\u001b[49m\u001b[43m,\u001b[49m\n\u001b[0;32m    497\u001b[0m \u001b[43m        \u001b[49m\u001b[43mstorage_options\u001b[49m\u001b[38;5;241;43m=\u001b[39;49m\u001b[43mstorage_options\u001b[49m\u001b[43m,\u001b[49m\n\u001b[0;32m    498\u001b[0m \u001b[43m        \u001b[49m\u001b[43mengine\u001b[49m\u001b[38;5;241;43m=\u001b[39;49m\u001b[43mengine\u001b[49m\u001b[43m,\u001b[49m\n\u001b[0;32m    499\u001b[0m \u001b[43m        \u001b[49m\u001b[43mengine_kwargs\u001b[49m\u001b[38;5;241;43m=\u001b[39;49m\u001b[43mengine_kwargs\u001b[49m\u001b[43m,\u001b[49m\n\u001b[0;32m    500\u001b[0m \u001b[43m    \u001b[49m\u001b[43m)\u001b[49m\n\u001b[0;32m    501\u001b[0m \u001b[38;5;28;01melif\u001b[39;00m engine \u001b[38;5;129;01mand\u001b[39;00m engine \u001b[38;5;241m!=\u001b[39m io\u001b[38;5;241m.\u001b[39mengine:\n\u001b[0;32m    502\u001b[0m     \u001b[38;5;28;01mraise\u001b[39;00m \u001b[38;5;167;01mValueError\u001b[39;00m(\n\u001b[0;32m    503\u001b[0m         \u001b[38;5;124m\"\u001b[39m\u001b[38;5;124mEngine should not be specified when passing \u001b[39m\u001b[38;5;124m\"\u001b[39m\n\u001b[0;32m    504\u001b[0m         \u001b[38;5;124m\"\u001b[39m\u001b[38;5;124man ExcelFile - ExcelFile already has the engine set\u001b[39m\u001b[38;5;124m\"\u001b[39m\n\u001b[0;32m    505\u001b[0m     )\n",
      "File \u001b[1;32m~\\AppData\\Local\\Packages\\PythonSoftwareFoundation.Python.3.11_qbz5n2kfra8p0\\LocalCache\\local-packages\\Python311\\site-packages\\pandas\\io\\excel\\_base.py:1550\u001b[0m, in \u001b[0;36mExcelFile.__init__\u001b[1;34m(self, path_or_buffer, engine, storage_options, engine_kwargs)\u001b[0m\n\u001b[0;32m   1548\u001b[0m     ext \u001b[38;5;241m=\u001b[39m \u001b[38;5;124m\"\u001b[39m\u001b[38;5;124mxls\u001b[39m\u001b[38;5;124m\"\u001b[39m\n\u001b[0;32m   1549\u001b[0m \u001b[38;5;28;01melse\u001b[39;00m:\n\u001b[1;32m-> 1550\u001b[0m     ext \u001b[38;5;241m=\u001b[39m \u001b[43minspect_excel_format\u001b[49m\u001b[43m(\u001b[49m\n\u001b[0;32m   1551\u001b[0m \u001b[43m        \u001b[49m\u001b[43mcontent_or_path\u001b[49m\u001b[38;5;241;43m=\u001b[39;49m\u001b[43mpath_or_buffer\u001b[49m\u001b[43m,\u001b[49m\u001b[43m \u001b[49m\u001b[43mstorage_options\u001b[49m\u001b[38;5;241;43m=\u001b[39;49m\u001b[43mstorage_options\u001b[49m\n\u001b[0;32m   1552\u001b[0m \u001b[43m    \u001b[49m\u001b[43m)\u001b[49m\n\u001b[0;32m   1553\u001b[0m     \u001b[38;5;28;01mif\u001b[39;00m ext \u001b[38;5;129;01mis\u001b[39;00m \u001b[38;5;28;01mNone\u001b[39;00m:\n\u001b[0;32m   1554\u001b[0m         \u001b[38;5;28;01mraise\u001b[39;00m \u001b[38;5;167;01mValueError\u001b[39;00m(\n\u001b[0;32m   1555\u001b[0m             \u001b[38;5;124m\"\u001b[39m\u001b[38;5;124mExcel file format cannot be determined, you must specify \u001b[39m\u001b[38;5;124m\"\u001b[39m\n\u001b[0;32m   1556\u001b[0m             \u001b[38;5;124m\"\u001b[39m\u001b[38;5;124man engine manually.\u001b[39m\u001b[38;5;124m\"\u001b[39m\n\u001b[0;32m   1557\u001b[0m         )\n",
      "File \u001b[1;32m~\\AppData\\Local\\Packages\\PythonSoftwareFoundation.Python.3.11_qbz5n2kfra8p0\\LocalCache\\local-packages\\Python311\\site-packages\\pandas\\io\\excel\\_base.py:1402\u001b[0m, in \u001b[0;36minspect_excel_format\u001b[1;34m(content_or_path, storage_options)\u001b[0m\n\u001b[0;32m   1399\u001b[0m \u001b[38;5;28;01mif\u001b[39;00m \u001b[38;5;28misinstance\u001b[39m(content_or_path, \u001b[38;5;28mbytes\u001b[39m):\n\u001b[0;32m   1400\u001b[0m     content_or_path \u001b[38;5;241m=\u001b[39m BytesIO(content_or_path)\n\u001b[1;32m-> 1402\u001b[0m \u001b[38;5;28;01mwith\u001b[39;00m \u001b[43mget_handle\u001b[49m\u001b[43m(\u001b[49m\n\u001b[0;32m   1403\u001b[0m \u001b[43m    \u001b[49m\u001b[43mcontent_or_path\u001b[49m\u001b[43m,\u001b[49m\u001b[43m \u001b[49m\u001b[38;5;124;43m\"\u001b[39;49m\u001b[38;5;124;43mrb\u001b[39;49m\u001b[38;5;124;43m\"\u001b[39;49m\u001b[43m,\u001b[49m\u001b[43m \u001b[49m\u001b[43mstorage_options\u001b[49m\u001b[38;5;241;43m=\u001b[39;49m\u001b[43mstorage_options\u001b[49m\u001b[43m,\u001b[49m\u001b[43m \u001b[49m\u001b[43mis_text\u001b[49m\u001b[38;5;241;43m=\u001b[39;49m\u001b[38;5;28;43;01mFalse\u001b[39;49;00m\n\u001b[0;32m   1404\u001b[0m \u001b[43m\u001b[49m\u001b[43m)\u001b[49m \u001b[38;5;28;01mas\u001b[39;00m handle:\n\u001b[0;32m   1405\u001b[0m     stream \u001b[38;5;241m=\u001b[39m handle\u001b[38;5;241m.\u001b[39mhandle\n\u001b[0;32m   1406\u001b[0m     stream\u001b[38;5;241m.\u001b[39mseek(\u001b[38;5;241m0\u001b[39m)\n",
      "File \u001b[1;32m~\\AppData\\Local\\Packages\\PythonSoftwareFoundation.Python.3.11_qbz5n2kfra8p0\\LocalCache\\local-packages\\Python311\\site-packages\\pandas\\io\\common.py:882\u001b[0m, in \u001b[0;36mget_handle\u001b[1;34m(path_or_buf, mode, encoding, compression, memory_map, is_text, errors, storage_options)\u001b[0m\n\u001b[0;32m    873\u001b[0m         handle \u001b[38;5;241m=\u001b[39m \u001b[38;5;28mopen\u001b[39m(\n\u001b[0;32m    874\u001b[0m             handle,\n\u001b[0;32m    875\u001b[0m             ioargs\u001b[38;5;241m.\u001b[39mmode,\n\u001b[1;32m   (...)\u001b[0m\n\u001b[0;32m    878\u001b[0m             newline\u001b[38;5;241m=\u001b[39m\u001b[38;5;124m\"\u001b[39m\u001b[38;5;124m\"\u001b[39m,\n\u001b[0;32m    879\u001b[0m         )\n\u001b[0;32m    880\u001b[0m     \u001b[38;5;28;01melse\u001b[39;00m:\n\u001b[0;32m    881\u001b[0m         \u001b[38;5;66;03m# Binary mode\u001b[39;00m\n\u001b[1;32m--> 882\u001b[0m         handle \u001b[38;5;241m=\u001b[39m \u001b[38;5;28;43mopen\u001b[39;49m\u001b[43m(\u001b[49m\u001b[43mhandle\u001b[49m\u001b[43m,\u001b[49m\u001b[43m \u001b[49m\u001b[43mioargs\u001b[49m\u001b[38;5;241;43m.\u001b[39;49m\u001b[43mmode\u001b[49m\u001b[43m)\u001b[49m\n\u001b[0;32m    883\u001b[0m     handles\u001b[38;5;241m.\u001b[39mappend(handle)\n\u001b[0;32m    885\u001b[0m \u001b[38;5;66;03m# Convert BytesIO or file objects passed with an encoding\u001b[39;00m\n",
      "\u001b[1;31mFileNotFoundError\u001b[0m: [Errno 2] No such file or directory: 'dirty_data.xlsx'"
     ]
    }
   ],
   "source": [
    "import pandas as pd \n",
    "import numpy as np\n",
    "import torch\n",
    "import torch.nn as nn\n",
    "import torch.nn.functional as F\n",
    "from torch.utils.data import Dataset, DataLoader\n",
    "import matplotlib.pyplot as plt \n",
    "from transformers import pipeline\n",
    "from sklearn.metrics import f1_score, roc_auc_score\n",
    "from sentence_transformers import SentenceTransformer\n",
    "from iterstrat.ml_stratifiers import MultilabelStratifiedKFold\n",
    "\n",
    "\n",
    "data = pd.read_excel('dirty_data.xlsx')"
   ]
  },
  {
   "cell_type": "markdown",
   "id": "b3ccb2fe",
   "metadata": {},
   "source": [
    "### скоро"
   ]
  },
  {
   "cell_type": "code",
   "execution_count": null,
   "id": "42700713",
   "metadata": {},
   "outputs": [],
   "source": [
    "tags = ['Вопрос решен', 'Вопрос не решен', 'Нравится качество выполнения заявки', 'Нравится качество работы сотрудников', 'Нравится скорость отработки заявок', 'Понравилось выполнение заявки']\n",
    "\n",
    "for tag in tags:\n",
    "    data[tag] = data['taxonomy'].apply(lambda x: 1 if pd.notna(x) and tag in x else 0)\n",
    "\n",
    "delete_columns = ['annotation_id', 'annotator', 'id', 'created_at', 'taxonomy', 'lead_time', 'updated_at']\n",
    "data.drop(columns=delete_columns, inplace=True)"
   ]
  },
  {
   "cell_type": "markdown",
   "id": "8f364428",
   "metadata": {},
   "source": [
    "### скоро"
   ]
  },
  {
   "cell_type": "code",
   "execution_count": null,
   "id": "867b6ff6",
   "metadata": {},
   "outputs": [],
   "source": [
    "print(data.shape)\n",
    "data"
   ]
  },
  {
   "cell_type": "markdown",
   "id": "b81019cd",
   "metadata": {},
   "source": [
    "### скоро"
   ]
  },
  {
   "cell_type": "code",
   "execution_count": null,
   "id": "d9d08ddd",
   "metadata": {},
   "outputs": [],
   "source": [
    "data = data.drop(1194).reset_index(drop=True)\n",
    "data = data.drop(1308).reset_index(drop=True)\n",
    "data = data.drop(2098).reset_index(drop=True)\n",
    "\n",
    "data.to_excel('data_normal.xlsx', index=False)"
   ]
  },
  {
   "cell_type": "markdown",
   "id": "fc8fc8c6",
   "metadata": {},
   "source": [
    "### скоро"
   ]
  },
  {
   "cell_type": "code",
   "execution_count": null,
   "id": "9432c8b5",
   "metadata": {},
   "outputs": [],
   "source": [
    "data['comment_clean'] = data['comment'].str.lower().str.replace(r'[^\\w\\s]', '', regex=True)\n",
    "data_clean = data.drop_duplicates(subset=['comment_clean'])"
   ]
  },
  {
   "cell_type": "markdown",
   "id": "2c0f86ef",
   "metadata": {},
   "source": [
    "### скоро"
   ]
  },
  {
   "cell_type": "code",
   "execution_count": null,
   "id": "b670c077",
   "metadata": {},
   "outputs": [],
   "source": [
    "data_clean.head(5)"
   ]
  },
  {
   "cell_type": "markdown",
   "id": "eec92fcc",
   "metadata": {},
   "source": [
    "### скоро"
   ]
  },
  {
   "cell_type": "code",
   "execution_count": null,
   "id": "2b22f8ba",
   "metadata": {},
   "outputs": [],
   "source": [
    "class_columns = data_clean.columns[2:-1]  \n",
    "class_distribution = data_clean[class_columns].sum()\n",
    "\n",
    "plt.figure(figsize=(10, 5))\n",
    "class_distribution.plot(kind=\"bar\", rot=70)\n",
    "plt.title(\"Распределение классов\")\n",
    "plt.ylabel(\"Количество\")\n",
    "plt.show()"
   ]
  },
  {
   "cell_type": "markdown",
   "id": "7fc7cdb7",
   "metadata": {},
   "source": [
    "# Baseline"
   ]
  },
  {
   "cell_type": "markdown",
   "id": "954e6023",
   "metadata": {},
   "source": [
    "### Загрузка готовой модели и тегов"
   ]
  },
  {
   "cell_type": "code",
   "execution_count": null,
   "id": "313fe35f",
   "metadata": {},
   "outputs": [],
   "source": [
    "classifier = pipeline(\"zero-shot-classification\", model=\"facebook/bart-large-mnli\")\n",
    "\n",
    "labels = [\n",
    "    'Вопрос решен',\n",
    "    'Нравится качество выполнения заявки',\n",
    "    'Нравится качество работы сотрудников',\n",
    "    'Нравится скорость отработки заявок',\n",
    "    'Понравилось выполнение заявки',\n",
    "    'Вопрос не решен'\n",
    "]"
   ]
  },
  {
   "cell_type": "markdown",
   "id": "9d517172",
   "metadata": {},
   "source": [
    "### Предсказание"
   ]
  },
  {
   "cell_type": "code",
   "execution_count": null,
   "id": "162adb6a",
   "metadata": {},
   "outputs": [],
   "source": [
    "scores = []\n",
    "results = []\n",
    "\n",
    "for text in data_clean['comment_clean'][:20]:\n",
    "    result = classifier(text, candidate_labels=labels, hypothesis_template=\"Этот отзыв про {}.\")\n",
    "    pred_bin = [1 if score > 0.5 else 0 for score in result['scores']]\n",
    "    results.append(pred_bin)\n",
    "    scores.append(result['scores'])\n",
    "\n",
    "results = np.array(results)\n",
    "scores = np.array(results)\n",
    "true_labels = data_clean[labels].values.astype(int)[:20]"
   ]
  },
  {
   "cell_type": "markdown",
   "id": "318f32d0",
   "metadata": {},
   "source": [
    "### Вывод результатов"
   ]
  },
  {
   "cell_type": "code",
   "execution_count": null,
   "id": "abed6bb1",
   "metadata": {},
   "outputs": [],
   "source": [
    "print(\"F1 micro:\", f1_score(true_labels, results, average='micro'))\n",
    "print(\"ROC-AUC micro:\", roc_auc_score(true_labels, scores, average='micro'))"
   ]
  },
  {
   "cell_type": "markdown",
   "id": "900eb380",
   "metadata": {},
   "source": [
    "# Sbert"
   ]
  },
  {
   "cell_type": "markdown",
   "id": "c2df5a2e",
   "metadata": {},
   "source": [
    "### Предобученная модель для преобразовани текста в вектор"
   ]
  },
  {
   "cell_type": "code",
   "execution_count": null,
   "id": "9beabca0",
   "metadata": {},
   "outputs": [],
   "source": [
    "model_sbert = SentenceTransformer('cointegrated/rubert-tiny2')"
   ]
  },
  {
   "cell_type": "markdown",
   "id": "1de2231e",
   "metadata": {},
   "source": [
    "### Кодировка текста в вектор"
   ]
  },
  {
   "cell_type": "code",
   "execution_count": null,
   "id": "93d6257f",
   "metadata": {},
   "outputs": [],
   "source": [
    "# ======= Dataset ========\n",
    "class ReviewDataset(Dataset):\n",
    "    def __init__(self, dataframe, text_column, label_columns, model):\n",
    "        self.texts = dataframe[text_column].tolist()\n",
    "        self.labels = dataframe[label_columns].values.astype('float32')\n",
    "        self.model = model\n",
    "\n",
    "    def __len__(self):\n",
    "        return len(self.texts)\n",
    "\n",
    "    def __getitem__(self, idx):\n",
    "        text = self.texts[idx]\n",
    "        embedding = self.model.encode(text, convert_to_tensor=True)\n",
    "        label = torch.tensor(self.labels[idx])\n",
    "        return embedding, label"
   ]
  },
  {
   "cell_type": "markdown",
   "id": "97684aae",
   "metadata": {},
   "source": [
    "### Классификтор вероятностей для каждой метки "
   ]
  },
  {
   "cell_type": "code",
   "execution_count": null,
   "id": "a344404e",
   "metadata": {},
   "outputs": [],
   "source": [
    "# ======= Классификатор ========\n",
    "class MultiLabelClassifier(nn.Module):\n",
    "    def __init__(self, embedding_dim, num_labels):\n",
    "        super().__init__()\n",
    "        self.dropout = nn.Dropout(0.2)\n",
    "        self.hidden = nn.Linear(embedding_dim, embedding_dim)  # Можно оставить ту же размерность\n",
    "        self.output = nn.Linear(embedding_dim, num_labels)\n",
    "\n",
    "    def forward(self, x):\n",
    "        x = self.dropout(x)\n",
    "        x = F.relu(self.hidden(x))\n",
    "        x = self.output(x)\n",
    "        return torch.sigmoid(x)"
   ]
  },
  {
   "cell_type": "markdown",
   "id": "e496ceda",
   "metadata": {},
   "source": [
    "### Подготовка данных"
   ]
  },
  {
   "cell_type": "code",
   "execution_count": null,
   "id": "cbf58c00",
   "metadata": {},
   "outputs": [],
   "source": [
    "dataset = ReviewDataset(data, text_column='comment', label_columns=labels, model=model_sbert)\n",
    "dataloader = DataLoader(dataset, batch_size=2, shuffle=True)"
   ]
  },
  {
   "cell_type": "markdown",
   "id": "3ffc23b7",
   "metadata": {},
   "source": [
    "### Инициализация модели"
   ]
  },
  {
   "cell_type": "code",
   "execution_count": null,
   "id": "53b435cf",
   "metadata": {},
   "outputs": [],
   "source": [
    "model = MultiLabelClassifier(312, 6)\n",
    "optimizer = torch.optim.Adam(model.parameters(), lr=1e-3)\n",
    "criterion = nn.BCELoss()"
   ]
  },
  {
   "cell_type": "markdown",
   "id": "f2fc046b",
   "metadata": {},
   "source": [
    "## Функции"
   ]
  },
  {
   "cell_type": "markdown",
   "id": "03d8c31a",
   "metadata": {},
   "source": [
    "### Подготовка данных к обучению"
   ]
  },
  {
   "cell_type": "code",
   "execution_count": null,
   "id": "3f77ef19",
   "metadata": {},
   "outputs": [],
   "source": [
    "def prepare_dataloaders(train_df, test_df, model_sbert, labels, batch_size=32):\n",
    "    train_dataset = ReviewDataset(train_df, text_column='comment', label_columns=labels, model=model_sbert)\n",
    "    test_dataset = ReviewDataset(test_df, text_column='comment', label_columns=labels, model=model_sbert)\n",
    "    train_loader = DataLoader(train_dataset, batch_size=batch_size, shuffle=False)\n",
    "    test_loader = DataLoader(test_dataset, batch_size=batch_size, shuffle=False)\n",
    "    return train_loader, test_loader"
   ]
  },
  {
   "cell_type": "markdown",
   "id": "e56afac2",
   "metadata": {},
   "source": [
    "### Функция обучения "
   ]
  },
  {
   "cell_type": "code",
   "execution_count": null,
   "id": "159cfba9",
   "metadata": {},
   "outputs": [],
   "source": [
    "def train_model(train_loader, embedding_dim, num_labels, epochs=10):\n",
    "    model = MultiLabelClassifier(embedding_dim, num_labels)\n",
    "    optimizer = torch.optim.Adam(model.parameters(), lr=1e-3)\n",
    "    criterion = nn.BCELoss()\n",
    "\n",
    "    model.train()\n",
    "    for epoch in range(epochs):\n",
    "        for embeddings, targets in train_loader:\n",
    "            optimizer.zero_grad()\n",
    "            outputs = model(embeddings)\n",
    "            loss = criterion(outputs, targets)\n",
    "            loss.backward()\n",
    "            optimizer.step()\n",
    "\n",
    "    return model"
   ]
  },
  {
   "cell_type": "markdown",
   "id": "e6e88640",
   "metadata": {},
   "source": [
    "### Функция предсказания"
   ]
  },
  {
   "cell_type": "code",
   "execution_count": null,
   "id": "e302ae02",
   "metadata": {},
   "outputs": [],
   "source": [
    "def predict_model(model, data_loader):\n",
    "    model.eval()\n",
    "    with torch.no_grad():\n",
    "        preds = torch.cat([model(emb) for emb, _ in data_loader]).cpu().numpy()\n",
    "        labels = torch.cat([tgt for _, tgt in data_loader]).cpu().numpy()\n",
    "    return preds, labels"
   ]
  },
  {
   "cell_type": "markdown",
   "id": "914bfb6e",
   "metadata": {},
   "source": [
    "### Расчет ROC-AUC"
   ]
  },
  {
   "cell_type": "code",
   "execution_count": null,
   "id": "8a801c33",
   "metadata": {},
   "outputs": [],
   "source": [
    "def calculate_auc(labels, preds):\n",
    "    auc_per_tag = [roc_auc_score(labels[:, i], preds[:, i]) for i in range(labels.shape[1])]\n",
    "    micro_auc = roc_auc_score(labels.ravel(), preds.ravel())\n",
    "    return auc_per_tag, micro_auc"
   ]
  },
  {
   "cell_type": "markdown",
   "id": "45b8ccc8",
   "metadata": {},
   "source": [
    "### Подбор лучшего порога по f1 для каждого класса"
   ]
  },
  {
   "cell_type": "code",
   "execution_count": null,
   "id": "6dde50d1",
   "metadata": {},
   "outputs": [],
   "source": [
    "def optimize_f1_thresholds(labels, preds, thresholds=np.linspace(0.0, 1.0, 101)):\n",
    "    optimal_thresholds = []\n",
    "    f1_per_tag = []\n",
    "    for i in range(labels.shape[1]):\n",
    "        best_f1, best_thresh = max(\n",
    "            ((f1_score(labels[:, i], (preds[:, i] >= t).astype(int), zero_division=0), t) for t in thresholds),\n",
    "            key=lambda x: x[0]\n",
    "        )\n",
    "        optimal_thresholds.append(best_thresh)\n",
    "        f1_per_tag.append(best_f1)\n",
    "    return optimal_thresholds, f1_per_tag"
   ]
  },
  {
   "cell_type": "markdown",
   "id": "f0c69096",
   "metadata": {},
   "source": [
    "### Применеие порога к вероятности"
   ]
  },
  {
   "cell_type": "code",
   "execution_count": null,
   "id": "26e45c6c",
   "metadata": {},
   "outputs": [],
   "source": [
    "def apply_thresholds(preds, thresholds):\n",
    "    binarized = []\n",
    "    for i, threshold in enumerate(thresholds):\n",
    "        binary_column = (preds[:, i] >= threshold).astype(int)\n",
    "        binarized.append(binary_column)\n",
    "    return np.array(binarized).T"
   ]
  },
  {
   "cell_type": "markdown",
   "id": "0ae8e23b",
   "metadata": {},
   "source": [
    "### Сбор всех метрик"
   ]
  },
  {
   "cell_type": "code",
   "execution_count": null,
   "id": "3975c1ed",
   "metadata": {},
   "outputs": [],
   "source": [
    "def evaluate_model(train_labels, train_preds, test_labels, test_preds):\n",
    "    train_auc, train_micro_auc = calculate_auc(train_labels, train_preds)\n",
    "    test_auc, test_micro_auc = calculate_auc(test_labels, test_preds)\n",
    "    optimal_thresholds, train_f1_per_tag = optimize_f1_thresholds(train_labels, train_preds)\n",
    "\n",
    "    train_preds_bin = apply_thresholds(train_preds, optimal_thresholds)\n",
    "    micro_f1_train = f1_score(train_labels, train_preds_bin, average='micro')\n",
    "\n",
    "    test_preds_bin = apply_thresholds(test_preds, optimal_thresholds)\n",
    "    micro_f1_test = f1_score(test_labels, test_preds_bin, average='micro')\n",
    "\n",
    "    return {'train_micro_auc': train_micro_auc, 'test_micro_auc': test_micro_auc, 'train_micro_f1': micro_f1_train, 'test_micro_f1': micro_f1_test}"
   ]
  },
  {
   "cell_type": "markdown",
   "id": "e8115ca5",
   "metadata": {},
   "source": [
    "### График разницы train и test AUC (не используется)"
   ]
  },
  {
   "cell_type": "code",
   "execution_count": null,
   "id": "3a552f4c",
   "metadata": {},
   "outputs": [],
   "source": [
    "def plot_roc_auc_gap(train_micro_auc, test_micro_auc):\n",
    "    plt.figure(figsize=(6, 4))\n",
    "    bars = plt.bar(['Train', 'Test'], [train_micro_auc, test_micro_auc], color=['green', 'orange'])\n",
    "    plt.ylim(0, 1)\n",
    "    plt.title(f'Micro ROC-AUC\\nGap = {abs(train_micro_auc - test_micro_auc):.4f}')\n",
    "    for bar in bars:\n",
    "        plt.text(bar.get_x() + bar.get_width()/2., bar.get_height() + 0.02, f'{bar.get_height():.4f}', ha='center', va='bottom')\n",
    "    plt.show()"
   ]
  },
  {
   "cell_type": "markdown",
   "id": "a8036d60",
   "metadata": {},
   "source": [
    "### Функция объединения обучения и предсказания"
   ]
  },
  {
   "cell_type": "code",
   "execution_count": null,
   "id": "5efad3ec",
   "metadata": {},
   "outputs": [],
   "source": [
    "def train_and_evaluate(train_loader, test_loader, embedding_dim, num_labels):\n",
    "    model = train_model(train_loader, embedding_dim, num_labels)\n",
    "    train_preds, train_labels = predict_model(model, train_loader)\n",
    "    test_preds, test_labels = predict_model(model, test_loader)\n",
    "    return evaluate_model(train_labels, train_preds, test_labels, test_preds)"
   ]
  },
  {
   "cell_type": "markdown",
   "id": "22a1bc26",
   "metadata": {},
   "source": [
    "# Применение функций обучения, предсказания и оценки"
   ]
  },
  {
   "cell_type": "markdown",
   "id": "2bea1250",
   "metadata": {},
   "source": [
    "### Кросс-валидация обучения"
   ]
  },
  {
   "cell_type": "code",
   "execution_count": null,
   "id": "de488f90",
   "metadata": {},
   "outputs": [],
   "source": [
    "mskf = MultilabelStratifiedKFold(n_splits=5, shuffle=True, random_state=42)\n",
    "results_per_fold = []\n",
    "\n",
    "for fold, (train_idx, test_idx) in enumerate(mskf.split(data_clean, data_clean[labels])):\n",
    "    print(f'\\n--- Fold {fold+1} ---')\n",
    "    train_df = data_clean.iloc[train_idx]\n",
    "    test_df = data_clean.iloc[test_idx]\n",
    "\n",
    "    train_loader, test_loader = prepare_dataloaders(train_df, test_df, model_sbert, labels)\n",
    "    fold_results = train_and_evaluate(train_loader, test_loader, 312, len(labels))\n",
    "    results_per_fold.append(fold_results)\n",
    "\n",
    "    model = train_model(train_loader, 312, len(labels))\n",
    "    train_preds, train_labels = predict_model(model, train_loader)\n",
    "    last_model = model\n",
    "    last_thresholds, _ = optimize_f1_thresholds(train_labels, train_preds)  "
   ]
  },
  {
   "cell_type": "markdown",
   "id": "c662d642",
   "metadata": {},
   "source": [
    "### Вывод результатов оценки"
   ]
  },
  {
   "cell_type": "code",
   "execution_count": null,
   "id": "18e95f59",
   "metadata": {},
   "outputs": [],
   "source": [
    "print('\\n--- Average results ---')\n",
    "print('Train Micro AUC:', np.mean([r['train_micro_auc'] for r in results_per_fold]))\n",
    "print('Test Micro AUC:', np.mean([r['test_micro_auc'] for r in results_per_fold]))\n",
    "print('Train Micro F1:', np.mean([r['train_micro_f1'] for r in results_per_fold]))\n",
    "print('Test Micro F1:', np.mean([r['test_micro_f1'] for r in results_per_fold]))"
   ]
  },
  {
   "cell_type": "markdown",
   "id": "e835ee53",
   "metadata": {},
   "source": [
    "## Ручное предсказание по новому отзыву"
   ]
  },
  {
   "cell_type": "markdown",
   "id": "4afb6dc2",
   "metadata": {},
   "source": [
    "### Функция предсказания по новому отзыву"
   ]
  },
  {
   "cell_type": "code",
   "execution_count": null,
   "id": "9760f4ed",
   "metadata": {},
   "outputs": [],
   "source": [
    "def predict_single_text(text, model, sbert_model, thresholds, label_list):\n",
    "    model.eval()\n",
    "    with torch.no_grad():\n",
    "        emb = sbert_model.encode(text, convert_to_tensor=True).unsqueeze(0)  # добавляем batch dimension\n",
    "        preds = model(emb).cpu().numpy()[0]\n",
    "        preds_bin = (preds >= thresholds).astype(int)\n",
    "        predicted_tags = [label for label, pred in zip(label_list, preds_bin) if pred == 1]\n",
    "    return predicted_tags, preds"
   ]
  },
  {
   "cell_type": "markdown",
   "id": "498a188d",
   "metadata": {},
   "source": [
    "### Вывод результатов предсказания"
   ]
  },
  {
   "cell_type": "code",
   "execution_count": null,
   "id": "bf1a21c4",
   "metadata": {},
   "outputs": [],
   "source": [
    "last_model = model\n",
    "last_thresholds, _ = optimize_f1_thresholds(train_labels, train_preds)  # можно с последнего фолда или взять усреднённые пороги по folds\n",
    "\n",
    "new_text = \"спасибо григорию, больше ничего не течет, очень оперативно\"\n",
    "\n",
    "predicted_tags, raw_scores = predict_single_text(new_text, last_model, model_sbert, last_thresholds, labels)\n",
    "\n",
    "print(f\"Текст: {new_text}\")\n",
    "print(f\"Предсказанные теги: {predicted_tags}\")\n",
    "print(f\"Raw scores: {raw_scores}\")"
   ]
  },
  {
   "cell_type": "code",
   "execution_count": null,
   "id": "04f3a516",
   "metadata": {},
   "outputs": [],
   "source": []
  }
 ],
 "metadata": {
  "kernelspec": {
   "display_name": "Python 3",
   "language": "python",
   "name": "python3"
  },
  "language_info": {
   "codemirror_mode": {
    "name": "ipython",
    "version": 3
   },
   "file_extension": ".py",
   "mimetype": "text/x-python",
   "name": "python",
   "nbconvert_exporter": "python",
   "pygments_lexer": "ipython3",
   "version": "3.11.9"
  }
 },
 "nbformat": 4,
 "nbformat_minor": 5
}
