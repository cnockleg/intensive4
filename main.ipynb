{
 "cells": [
  {
   "cell_type": "code",
   "execution_count": 24,
   "id": "566ecc1e",
   "metadata": {},
   "outputs": [],
   "source": [
    "import pandas as pd\n",
    "\n",
    "# Open the .xlsx file\n",
    "file_path = 'dirty_data.xlsx'\n",
    "data = pd.read_excel(file_path)"
   ]
  },
  {
   "cell_type": "code",
   "execution_count": 25,
   "id": "70f8e8fb",
   "metadata": {},
   "outputs": [
    {
     "name": "stdout",
     "output_type": "stream",
     "text": [
      "                                        comment  Вопрос решен  \\\n",
      "0                                       спасибо             1   \n",
      "1                                      спасибо!             1   \n",
      "2                                      Отлично              1   \n",
      "3  Благодарю за оперативное решение проблемы !              1   \n",
      "4         Прекрасный специалист! Побольше таких             1   \n",
      "\n",
      "   Нравится качество выполнения заявки  Нравится качество работы сотрудников  \\\n",
      "0                                    0                                     0   \n",
      "1                                    0                                     0   \n",
      "2                                    0                                     0   \n",
      "3                                    0                                     0   \n",
      "4                                    0                                     1   \n",
      "\n",
      "   Нравится скорость отработки заявок  Понравилось выполнение заявки  \\\n",
      "0                                   0                              0   \n",
      "1                                   0                              0   \n",
      "2                                   0                              0   \n",
      "3                                   1                              0   \n",
      "4                                   0                              0   \n",
      "\n",
      "   Вопрос не решен  \n",
      "0                0  \n",
      "1                0  \n",
      "2                0  \n",
      "3                0  \n",
      "4                0  \n"
     ]
    }
   ],
   "source": [
    "phrases = ['Вопрос решен', 'Вопрос не решен', 'Нравится качество выполнения заявки', 'Нравится качество работы сотрудников', 'Нравится скорость отработки заявок', 'Понравилось выполнение заявки']\n",
    "\n",
    "# Создаем бинарные колонки для каждой фразы\n",
    "for phrase in phrases:\n",
    "    data[phrase] = data['taxonomy'].apply(lambda x: 1 if pd.notna(x) and phrase in x else 0)\n",
    "\n",
    "\n",
    "# Удаляем ненужные колонки\n",
    "delete_columns = ['annotation_id', 'annotator', 'id', 'created_at', 'taxonomy', 'lead_time', 'rating', 'updated_at']\n",
    "data.drop(columns=delete_columns, inplace=True)\n",
    "\n",
    "# Объединяем колонки \"Нравится качество выполнения заявки\" и \"Понравилось выполнение заявки\"\n",
    "data['Нравится качество выполнения заявки'] = data['Нравится качество выполнения заявки'] | data['Понравилось выполнение заявки']\n",
    "\n",
    "\n",
    "# Проверяем результат\n",
    "print(data.head())\n",
    "\n",
    "# Сохраняем результат в новый файл\n",
    "data.to_excel('cleaned_data.xlsx', index=False)"
   ]
  }
 ],
 "metadata": {
  "kernelspec": {
   "display_name": "myenv",
   "language": "python",
   "name": "python3"
  },
  "language_info": {
   "codemirror_mode": {
    "name": "ipython",
    "version": 3
   },
   "file_extension": ".py",
   "mimetype": "text/x-python",
   "name": "python",
   "nbconvert_exporter": "python",
   "pygments_lexer": "ipython3",
   "version": "3.9.6"
  }
 },
 "nbformat": 4,
 "nbformat_minor": 5
}
