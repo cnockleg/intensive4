{
 "cells": [
  {
   "cell_type": "markdown",
   "id": "1030efa1",
   "metadata": {},
   "source": [
    "# Обработка данных"
   ]
  },
  {
   "cell_type": "markdown",
   "id": "30fb0fd2",
   "metadata": {},
   "source": [
    "### Импортирование библиотек"
   ]
  },
  {
   "cell_type": "code",
   "execution_count": 1,
   "id": "95a6c279",
   "metadata": {},
   "outputs": [
    {
     "name": "stdout",
     "output_type": "stream",
     "text": [
      "WARNING:tensorflow:From C:\\Users\\Евгений\\AppData\\Local\\Packages\\PythonSoftwareFoundation.Python.3.11_qbz5n2kfra8p0\\LocalCache\\local-packages\\Python311\\site-packages\\keras\\src\\losses.py:2976: The name tf.losses.sparse_softmax_cross_entropy is deprecated. Please use tf.compat.v1.losses.sparse_softmax_cross_entropy instead.\n",
      "\n"
     ]
    }
   ],
   "source": [
    "import pandas as pd \n",
    "import numpy as np\n",
    "\n",
    "import torch\n",
    "import torch.nn as nn\n",
    "import torch.nn.functional as F\n",
    "from torch.utils.data import Dataset, DataLoader\n",
    "from transformers import pipeline\n",
    "\n",
    "import matplotlib.pyplot as plt \n",
    "\n",
    "from sklearn.metrics import f1_score, roc_auc_score\n",
    "\n",
    "from sentence_transformers import SentenceTransformer\n",
    "from iterstrat.ml_stratifiers import MultilabelStratifiedKFold\n",
    "\n",
    "\n",
    "data = pd.read_excel('project/dirty_data.xlsx')"
   ]
  },
  {
   "cell_type": "markdown",
   "id": "b3ccb2fe",
   "metadata": {},
   "source": [
    "### Работа со столбцами"
   ]
  },
  {
   "cell_type": "code",
   "execution_count": 2,
   "id": "42700713",
   "metadata": {},
   "outputs": [],
   "source": [
    "tags = ['Вопрос решен', 'Вопрос не решен', 'Нравится качество выполнения заявки', 'Нравится качество работы сотрудников', 'Нравится скорость отработки заявок', 'Понравилось выполнение заявки']\n",
    "\n",
    "for tag in tags:\n",
    "    data[tag] = data['taxonomy'].apply(lambda x: 1 if pd.notna(x) and tag in x else 0)\n",
    "\n",
    "\n",
    "delete_columns = ['annotation_id', 'annotator', 'id', 'created_at', 'taxonomy', 'lead_time', 'updated_at']\n",
    "data.drop(columns=delete_columns, inplace=True)"
   ]
  },
  {
   "cell_type": "code",
   "execution_count": 3,
   "id": "867b6ff6",
   "metadata": {},
   "outputs": [
    {
     "name": "stdout",
     "output_type": "stream",
     "text": [
      "(2372, 8)\n"
     ]
    },
    {
     "data": {
      "text/html": [
       "<div>\n",
       "<style scoped>\n",
       "    .dataframe tbody tr th:only-of-type {\n",
       "        vertical-align: middle;\n",
       "    }\n",
       "\n",
       "    .dataframe tbody tr th {\n",
       "        vertical-align: top;\n",
       "    }\n",
       "\n",
       "    .dataframe thead th {\n",
       "        text-align: right;\n",
       "    }\n",
       "</style>\n",
       "<table border=\"1\" class=\"dataframe\">\n",
       "  <thead>\n",
       "    <tr style=\"text-align: right;\">\n",
       "      <th></th>\n",
       "      <th>comment</th>\n",
       "      <th>rating</th>\n",
       "      <th>Вопрос решен</th>\n",
       "      <th>Нравится качество выполнения заявки</th>\n",
       "      <th>Нравится качество работы сотрудников</th>\n",
       "      <th>Нравится скорость отработки заявок</th>\n",
       "      <th>Понравилось выполнение заявки</th>\n",
       "      <th>Вопрос не решен</th>\n",
       "    </tr>\n",
       "  </thead>\n",
       "  <tbody>\n",
       "    <tr>\n",
       "      <th>0</th>\n",
       "      <td>спасибо</td>\n",
       "      <td>5</td>\n",
       "      <td>1</td>\n",
       "      <td>0</td>\n",
       "      <td>0</td>\n",
       "      <td>0</td>\n",
       "      <td>0</td>\n",
       "      <td>0</td>\n",
       "    </tr>\n",
       "    <tr>\n",
       "      <th>1</th>\n",
       "      <td>спасибо!</td>\n",
       "      <td>5</td>\n",
       "      <td>1</td>\n",
       "      <td>0</td>\n",
       "      <td>0</td>\n",
       "      <td>0</td>\n",
       "      <td>0</td>\n",
       "      <td>0</td>\n",
       "    </tr>\n",
       "    <tr>\n",
       "      <th>2</th>\n",
       "      <td>Отлично</td>\n",
       "      <td>5</td>\n",
       "      <td>1</td>\n",
       "      <td>0</td>\n",
       "      <td>0</td>\n",
       "      <td>0</td>\n",
       "      <td>0</td>\n",
       "      <td>0</td>\n",
       "    </tr>\n",
       "    <tr>\n",
       "      <th>3</th>\n",
       "      <td>Благодарю за оперативное решение проблемы !</td>\n",
       "      <td>5</td>\n",
       "      <td>1</td>\n",
       "      <td>0</td>\n",
       "      <td>0</td>\n",
       "      <td>1</td>\n",
       "      <td>0</td>\n",
       "      <td>0</td>\n",
       "    </tr>\n",
       "    <tr>\n",
       "      <th>4</th>\n",
       "      <td>Прекрасный специалист! Побольше таких</td>\n",
       "      <td>5</td>\n",
       "      <td>1</td>\n",
       "      <td>0</td>\n",
       "      <td>1</td>\n",
       "      <td>0</td>\n",
       "      <td>0</td>\n",
       "      <td>0</td>\n",
       "    </tr>\n",
       "    <tr>\n",
       "      <th>...</th>\n",
       "      <td>...</td>\n",
       "      <td>...</td>\n",
       "      <td>...</td>\n",
       "      <td>...</td>\n",
       "      <td>...</td>\n",
       "      <td>...</td>\n",
       "      <td>...</td>\n",
       "      <td>...</td>\n",
       "    </tr>\n",
       "    <tr>\n",
       "      <th>2367</th>\n",
       "      <td>долго, но приятно</td>\n",
       "      <td>5</td>\n",
       "      <td>1</td>\n",
       "      <td>0</td>\n",
       "      <td>0</td>\n",
       "      <td>0</td>\n",
       "      <td>0</td>\n",
       "      <td>0</td>\n",
       "    </tr>\n",
       "    <tr>\n",
       "      <th>2368</th>\n",
       "      <td>16.03.2024 г ребята установили кондиционер. ра...</td>\n",
       "      <td>5</td>\n",
       "      <td>1</td>\n",
       "      <td>1</td>\n",
       "      <td>1</td>\n",
       "      <td>1</td>\n",
       "      <td>0</td>\n",
       "      <td>0</td>\n",
       "    </tr>\n",
       "    <tr>\n",
       "      <th>2369</th>\n",
       "      <td>два дня мусоропровод. сегодня с утра тоже</td>\n",
       "      <td>5</td>\n",
       "      <td>0</td>\n",
       "      <td>0</td>\n",
       "      <td>0</td>\n",
       "      <td>0</td>\n",
       "      <td>0</td>\n",
       "      <td>1</td>\n",
       "    </tr>\n",
       "    <tr>\n",
       "      <th>2370</th>\n",
       "      <td>отрегулировать дверь замки . для должного откр...</td>\n",
       "      <td>5</td>\n",
       "      <td>0</td>\n",
       "      <td>0</td>\n",
       "      <td>0</td>\n",
       "      <td>0</td>\n",
       "      <td>0</td>\n",
       "      <td>1</td>\n",
       "    </tr>\n",
       "    <tr>\n",
       "      <th>2371</th>\n",
       "      <td>все сделано хорошо</td>\n",
       "      <td>5</td>\n",
       "      <td>1</td>\n",
       "      <td>0</td>\n",
       "      <td>0</td>\n",
       "      <td>0</td>\n",
       "      <td>1</td>\n",
       "      <td>0</td>\n",
       "    </tr>\n",
       "  </tbody>\n",
       "</table>\n",
       "<p>2372 rows × 8 columns</p>\n",
       "</div>"
      ],
      "text/plain": [
       "                                                comment  rating  Вопрос решен  \\\n",
       "0                                               спасибо       5             1   \n",
       "1                                              спасибо!       5             1   \n",
       "2                                              Отлично        5             1   \n",
       "3          Благодарю за оперативное решение проблемы !        5             1   \n",
       "4                 Прекрасный специалист! Побольше таких       5             1   \n",
       "...                                                 ...     ...           ...   \n",
       "2367                                  долго, но приятно       5             1   \n",
       "2368  16.03.2024 г ребята установили кондиционер. ра...       5             1   \n",
       "2369          два дня мусоропровод. сегодня с утра тоже       5             0   \n",
       "2370  отрегулировать дверь замки . для должного откр...       5             0   \n",
       "2371                                 все сделано хорошо       5             1   \n",
       "\n",
       "      Нравится качество выполнения заявки  \\\n",
       "0                                       0   \n",
       "1                                       0   \n",
       "2                                       0   \n",
       "3                                       0   \n",
       "4                                       0   \n",
       "...                                   ...   \n",
       "2367                                    0   \n",
       "2368                                    1   \n",
       "2369                                    0   \n",
       "2370                                    0   \n",
       "2371                                    0   \n",
       "\n",
       "      Нравится качество работы сотрудников  \\\n",
       "0                                        0   \n",
       "1                                        0   \n",
       "2                                        0   \n",
       "3                                        0   \n",
       "4                                        1   \n",
       "...                                    ...   \n",
       "2367                                     0   \n",
       "2368                                     1   \n",
       "2369                                     0   \n",
       "2370                                     0   \n",
       "2371                                     0   \n",
       "\n",
       "      Нравится скорость отработки заявок  Понравилось выполнение заявки  \\\n",
       "0                                      0                              0   \n",
       "1                                      0                              0   \n",
       "2                                      0                              0   \n",
       "3                                      1                              0   \n",
       "4                                      0                              0   \n",
       "...                                  ...                            ...   \n",
       "2367                                   0                              0   \n",
       "2368                                   1                              0   \n",
       "2369                                   0                              0   \n",
       "2370                                   0                              0   \n",
       "2371                                   0                              1   \n",
       "\n",
       "      Вопрос не решен  \n",
       "0                   0  \n",
       "1                   0  \n",
       "2                   0  \n",
       "3                   0  \n",
       "4                   0  \n",
       "...               ...  \n",
       "2367                0  \n",
       "2368                0  \n",
       "2369                1  \n",
       "2370                1  \n",
       "2371                0  \n",
       "\n",
       "[2372 rows x 8 columns]"
      ]
     },
     "execution_count": 3,
     "metadata": {},
     "output_type": "execute_result"
    }
   ],
   "source": [
    "print(data.shape)\n",
    "data"
   ]
  },
  {
   "cell_type": "markdown",
   "id": "b81019cd",
   "metadata": {},
   "source": [
    "### Удаление уникальных грязных отзывов (смайлики)"
   ]
  },
  {
   "cell_type": "code",
   "execution_count": 4,
   "id": "d9d08ddd",
   "metadata": {},
   "outputs": [],
   "source": [
    "data = data.drop(1194).reset_index(drop=True)\n",
    "data = data.drop(1308).reset_index(drop=True)\n",
    "data = data.drop(2098).reset_index(drop=True)\n",
    "\n",
    "data.to_excel('data_normal.xlsx', index=False)"
   ]
  },
  {
   "cell_type": "markdown",
   "id": "fc8fc8c6",
   "metadata": {},
   "source": [
    "### Нормализация отзывов"
   ]
  },
  {
   "cell_type": "code",
   "execution_count": 5,
   "id": "9432c8b5",
   "metadata": {},
   "outputs": [],
   "source": [
    "data['comment_clean'] = data['comment'].str.lower().str.replace(r'[^\\w\\s]', '', regex=True)\n",
    "data_clean = data.drop_duplicates(subset=['comment_clean'])"
   ]
  },
  {
   "cell_type": "markdown",
   "id": "eec92fcc",
   "metadata": {},
   "source": [
    "### График распределения классов"
   ]
  },
  {
   "cell_type": "code",
   "execution_count": 6,
   "id": "2b22f8ba",
   "metadata": {},
   "outputs": [
    {
     "data": {
      "image/png": "[encoded data removed]",
      "text/plain": [
       "<Figure size 1000x500 with 1 Axes>"
      ]
     },
     "metadata": {},
     "output_type": "display_data"
    }
   ],
   "source": [
    "class_columns = data_clean.columns[2:-1]  \n",
    "class_distribution = data_clean[class_columns].sum()\n",
    "\n",
    "plt.figure(figsize=(10, 5))\n",
    "class_distribution.plot(kind=\"bar\", rot=70)\n",
    "plt.title(\"Распределение классов\")\n",
    "plt.ylabel(\"Количество\")\n",
    "plt.show()"
   ]
  },
  {
   "cell_type": "markdown",
   "id": "7fc7cdb7",
   "metadata": {},
   "source": [
    "# Baseline-модель"
   ]
  },
  {
   "cell_type": "markdown",
   "id": "954e6023",
   "metadata": {},
   "source": [
    "### Загрузка готовой модели и тегов"
   ]
  },
  {
   "cell_type": "code",
   "execution_count": 7,
   "id": "313fe35f",
   "metadata": {},
   "outputs": [
    {
     "name": "stderr",
     "output_type": "stream",
     "text": [
      "Device set to use cpu\n"
     ]
    }
   ],
   "source": [
    "classifier = pipeline(\"zero-shot-classification\", model=\"facebook/bart-large-mnli\")\n",
    "\n",
    "labels = [\n",
    "    'Вопрос решен',\n",
    "    'Нравится качество выполнения заявки',\n",
    "    'Нравится качество работы сотрудников',\n",
    "    'Нравится скорость отработки заявок',\n",
    "    'Понравилось выполнение заявки',\n",
    "    'Вопрос не решен'\n",
    "]"
   ]
  },
  {
   "cell_type": "markdown",
   "id": "9d517172",
   "metadata": {},
   "source": [
    "### Предсказание"
   ]
  },
  {
   "cell_type": "code",
   "execution_count": 8,
   "id": "162adb6a",
   "metadata": {},
   "outputs": [],
   "source": [
    "scores = []\n",
    "results = []\n",
    "\n",
    "for text in data_clean['comment_clean'][:20]:\n",
    "    result = classifier(text, candidate_labels=labels, hypothesis_template=\"Этот отзыв про {}.\")\n",
    "    pred_bin = [1 if score > 0.5 else 0 for score in result['scores']]\n",
    "    results.append(pred_bin)\n",
    "    scores.append(result['scores'])\n",
    "\n",
    "results = np.array(results)\n",
    "scores = np.array(results)\n",
    "true_labels = data_clean[labels].values.astype(int)[:20]"
   ]
  },
  {
   "cell_type": "markdown",
   "id": "318f32d0",
   "metadata": {},
   "source": [
    "### Вывод результатов"
   ]
  },
  {
   "cell_type": "code",
   "execution_count": 9,
   "id": "abed6bb1",
   "metadata": {},
   "outputs": [
    {
     "name": "stdout",
     "output_type": "stream",
     "text": [
      "F1 micro: 0.0\n",
      "ROC-AUC micro: 0.5\n"
     ]
    }
   ],
   "source": [
    "print(\"F1 micro:\", f1_score(true_labels, results, average='micro'))\n",
    "print(\"ROC-AUC micro:\", roc_auc_score(true_labels, scores, average='micro'))"
   ]
  },
  {
   "cell_type": "markdown",
   "id": "900eb380",
   "metadata": {},
   "source": [
    "# Sbert"
   ]
  },
  {
   "cell_type": "markdown",
   "id": "c2df5a2e",
   "metadata": {},
   "source": [
    "### Предобученная модель для преобразовани текста в вектор"
   ]
  },
  {
   "cell_type": "code",
   "execution_count": 10,
   "id": "9beabca0",
   "metadata": {},
   "outputs": [],
   "source": [
    "model_sbert = SentenceTransformer('cointegrated/rubert-tiny2')"
   ]
  },
  {
   "cell_type": "markdown",
   "id": "1de2231e",
   "metadata": {},
   "source": [
    "### Кодировка текста в вектор"
   ]
  },
  {
   "cell_type": "code",
   "execution_count": null,
   "id": "93d6257f",
   "metadata": {},
   "outputs": [],
   "source": [
    "class ReviewDataset(Dataset):\n",
    "    def __init__(self, dataframe, text_column, label_columns, model):\n",
    "        self.texts = dataframe[text_column].tolist()\n",
    "        self.labels = dataframe[label_columns].values.astype('float32')\n",
    "        self.model = model\n",
    "\n",
    "    def __len__(self):\n",
    "        return len(self.texts)\n",
    "\n",
    "    def __getitem__(self, idx):\n",
    "        text = self.texts[idx]\n",
    "        embedding = self.model.encode(text, convert_to_tensor=True)\n",
    "        label = torch.tensor(self.labels[idx])\n",
    "        return embedding, label"
   ]
  },
  {
   "cell_type": "markdown",
   "id": "97684aae",
   "metadata": {},
   "source": [
    "### Классификтор вероятностей для каждой метки "
   ]
  },
  {
   "cell_type": "code",
   "execution_count": null,
   "id": "a344404e",
   "metadata": {},
   "outputs": [],
   "source": [
    "class MultiLabelClassifier(nn.Module):\n",
    "    def __init__(self, embedding_dim, num_labels):\n",
    "        super().__init__()\n",
    "        self.dropout = nn.Dropout(0.2)\n",
    "        self.hidden = nn.Linear(embedding_dim, embedding_dim)  # Можно оставить ту же размерность\n",
    "        self.output = nn.Linear(embedding_dim, num_labels)\n",
    "\n",
    "    def forward(self, x):\n",
    "        x = self.dropout(x)\n",
    "        x = F.relu(self.hidden(x))\n",
    "        x = self.output(x)\n",
    "        return torch.sigmoid(x)"
   ]
  },
  {
   "cell_type": "markdown",
   "id": "e496ceda",
   "metadata": {},
   "source": [
    "### Подготовка данных"
   ]
  },
  {
   "cell_type": "code",
   "execution_count": 13,
   "id": "cbf58c00",
   "metadata": {},
   "outputs": [],
   "source": [
    "dataset = ReviewDataset(data, text_column='comment', label_columns=labels, model=model_sbert)\n",
    "dataloader = DataLoader(dataset, batch_size=2, shuffle=True)"
   ]
  },
  {
   "cell_type": "markdown",
   "id": "3ffc23b7",
   "metadata": {},
   "source": [
    "### Инициализация модели"
   ]
  },
  {
   "cell_type": "code",
   "execution_count": 14,
   "id": "53b435cf",
   "metadata": {},
   "outputs": [],
   "source": [
    "model = MultiLabelClassifier(312, 6)\n",
    "optimizer = torch.optim.Adam(model.parameters(), lr=1e-3)\n",
    "criterion = nn.BCELoss()"
   ]
  },
  {
   "cell_type": "markdown",
   "id": "f2fc046b",
   "metadata": {},
   "source": [
    "## Функции"
   ]
  },
  {
   "cell_type": "markdown",
   "id": "03d8c31a",
   "metadata": {},
   "source": [
    "### Подготовка данных к обучению"
   ]
  },
  {
   "cell_type": "code",
   "execution_count": 15,
   "id": "3f77ef19",
   "metadata": {},
   "outputs": [],
   "source": [
    "def prepare_dataloaders(train_df, test_df, model_sbert, labels, batch_size=32):\n",
    "    train_dataset = ReviewDataset(train_df, text_column='comment', label_columns=labels, model=model_sbert)\n",
    "    test_dataset = ReviewDataset(test_df, text_column='comment', label_columns=labels, model=model_sbert)\n",
    "    train_loader = DataLoader(train_dataset, batch_size=batch_size, shuffle=False)\n",
    "    test_loader = DataLoader(test_dataset, batch_size=batch_size, shuffle=False)\n",
    "    return train_loader, test_loader"
   ]
  },
  {
   "cell_type": "markdown",
   "id": "e56afac2",
   "metadata": {},
   "source": [
    "### Функция обучения "
   ]
  },
  {
   "cell_type": "code",
   "execution_count": 16,
   "id": "159cfba9",
   "metadata": {},
   "outputs": [],
   "source": [
    "def train_model(train_loader, embedding_dim, num_labels, epochs=10):\n",
    "    model = MultiLabelClassifier(embedding_dim, num_labels)\n",
    "    optimizer = torch.optim.Adam(model.parameters(), lr=1e-3)\n",
    "    criterion = nn.BCELoss()\n",
    "\n",
    "    model.train()\n",
    "    for epoch in range(epochs):\n",
    "        for embeddings, targets in train_loader:\n",
    "            optimizer.zero_grad()\n",
    "            outputs = model(embeddings)\n",
    "            loss = criterion(outputs, targets)\n",
    "            loss.backward()\n",
    "            optimizer.step()\n",
    "\n",
    "    return model"
   ]
  },
  {
   "cell_type": "markdown",
   "id": "e6e88640",
   "metadata": {},
   "source": [
    "### Функция предсказания"
   ]
  },
  {
   "cell_type": "code",
   "execution_count": 17,
   "id": "e302ae02",
   "metadata": {},
   "outputs": [],
   "source": [
    "def predict_model(model, data_loader):\n",
    "    model.eval()\n",
    "    with torch.no_grad():\n",
    "        preds = torch.cat([model(emb) for emb, _ in data_loader]).cpu().numpy()\n",
    "        labels = torch.cat([tgt for _, tgt in data_loader]).cpu().numpy()\n",
    "    return preds, labels"
   ]
  },
  {
   "cell_type": "markdown",
   "id": "914bfb6e",
   "metadata": {},
   "source": [
    "### Расчет ROC-AUC"
   ]
  },
  {
   "cell_type": "code",
   "execution_count": 18,
   "id": "8a801c33",
   "metadata": {},
   "outputs": [],
   "source": [
    "def calculate_auc(labels, preds):\n",
    "    auc_per_tag = [roc_auc_score(labels[:, i], preds[:, i]) for i in range(labels.shape[1])]\n",
    "    micro_auc = roc_auc_score(labels.ravel(), preds.ravel())\n",
    "    return auc_per_tag, micro_auc"
   ]
  },
  {
   "cell_type": "markdown",
   "id": "45b8ccc8",
   "metadata": {},
   "source": [
    "### Подбор лучшего порога по f1 для каждого класса"
   ]
  },
  {
   "cell_type": "code",
   "execution_count": 19,
   "id": "6dde50d1",
   "metadata": {},
   "outputs": [],
   "source": [
    "def optimize_f1_thresholds(labels, preds, thresholds=np.linspace(0.0, 1.0, 101)):\n",
    "    optimal_thresholds = []\n",
    "    f1_per_tag = []\n",
    "    for i in range(labels.shape[1]):\n",
    "        best_f1, best_thresh = max(\n",
    "            ((f1_score(labels[:, i], (preds[:, i] >= t).astype(int), zero_division=0), t) for t in thresholds),\n",
    "            key=lambda x: x[0]\n",
    "        )\n",
    "        optimal_thresholds.append(best_thresh)\n",
    "        f1_per_tag.append(best_f1)\n",
    "    return optimal_thresholds, f1_per_tag"
   ]
  },
  {
   "cell_type": "markdown",
   "id": "f0c69096",
   "metadata": {},
   "source": [
    "### Применеие порога к вероятности"
   ]
  },
  {
   "cell_type": "code",
   "execution_count": 20,
   "id": "26e45c6c",
   "metadata": {},
   "outputs": [],
   "source": [
    "def apply_thresholds(preds, thresholds):\n",
    "    binarized = []\n",
    "    for i, threshold in enumerate(thresholds):\n",
    "        binary_column = (preds[:, i] >= threshold).astype(int)\n",
    "        binarized.append(binary_column)\n",
    "    return np.array(binarized).T"
   ]
  },
  {
   "cell_type": "markdown",
   "id": "0ae8e23b",
   "metadata": {},
   "source": [
    "### Сбор всех метрик"
   ]
  },
  {
   "cell_type": "code",
   "execution_count": 21,
   "id": "3975c1ed",
   "metadata": {},
   "outputs": [],
   "source": [
    "def evaluate_model(train_labels, train_preds, test_labels, test_preds):\n",
    "    train_auc, train_micro_auc = calculate_auc(train_labels, train_preds)\n",
    "    test_auc, test_micro_auc = calculate_auc(test_labels, test_preds)\n",
    "    optimal_thresholds, train_f1_per_tag = optimize_f1_thresholds(train_labels, train_preds)\n",
    "\n",
    "    train_preds_bin = apply_thresholds(train_preds, optimal_thresholds)\n",
    "    micro_f1_train = f1_score(train_labels, train_preds_bin, average='micro')\n",
    "\n",
    "    test_preds_bin = apply_thresholds(test_preds, optimal_thresholds)\n",
    "    micro_f1_test = f1_score(test_labels, test_preds_bin, average='micro')\n",
    "\n",
    "    return {'train_micro_auc': train_micro_auc, 'test_micro_auc': test_micro_auc, 'train_micro_f1': micro_f1_train, 'test_micro_f1': micro_f1_test}"
   ]
  },
  {
   "cell_type": "markdown",
   "id": "e8115ca5",
   "metadata": {},
   "source": [
    "### График разницы train и test AUC (не используется)"
   ]
  },
  {
   "cell_type": "code",
   "execution_count": 22,
   "id": "3a552f4c",
   "metadata": {},
   "outputs": [],
   "source": [
    "def plot_roc_auc_gap(train_micro_auc, test_micro_auc):\n",
    "    plt.figure(figsize=(6, 4))\n",
    "    bars = plt.bar(['Train', 'Test'], [train_micro_auc, test_micro_auc], color=['green', 'orange'])\n",
    "    plt.ylim(0, 1)\n",
    "    plt.title(f'Micro ROC-AUC\\nGap = {abs(train_micro_auc - test_micro_auc):.4f}')\n",
    "    for bar in bars:\n",
    "        plt.text(bar.get_x() + bar.get_width()/2., bar.get_height() + 0.02, f'{bar.get_height():.4f}', ha='center', va='bottom')\n",
    "    plt.show()"
   ]
  },
  {
   "cell_type": "markdown",
   "id": "a8036d60",
   "metadata": {},
   "source": [
    "### Функция объединения обучения и предсказания"
   ]
  },
  {
   "cell_type": "code",
   "execution_count": 23,
   "id": "5efad3ec",
   "metadata": {},
   "outputs": [],
   "source": [
    "def train_and_evaluate(train_loader, test_loader, embedding_dim, num_labels):\n",
    "    model = train_model(train_loader, embedding_dim, num_labels)\n",
    "    train_preds, train_labels = predict_model(model, train_loader)\n",
    "    test_preds, test_labels = predict_model(model, test_loader)\n",
    "    return evaluate_model(train_labels, train_preds, test_labels, test_preds)"
   ]
  },
  {
   "cell_type": "markdown",
   "id": "22a1bc26",
   "metadata": {},
   "source": [
    "# Применение функций обучения, предсказания и оценки"
   ]
  },
  {
   "cell_type": "markdown",
   "id": "2bea1250",
   "metadata": {},
   "source": [
    "### Кросс-валидация обучения"
   ]
  },
  {
   "cell_type": "code",
   "execution_count": 24,
   "id": "de488f90",
   "metadata": {},
   "outputs": [
    {
     "name": "stdout",
     "output_type": "stream",
     "text": [
      "\n",
      "--- Fold 1 ---\n",
      "\n",
      "--- Fold 2 ---\n",
      "\n",
      "--- Fold 3 ---\n",
      "\n",
      "--- Fold 4 ---\n",
      "\n",
      "--- Fold 5 ---\n"
     ]
    }
   ],
   "source": [
    "mskf = MultilabelStratifiedKFold(n_splits=5, shuffle=True, random_state=42)\n",
    "results_per_fold = []\n",
    "\n",
    "for fold, (train_idx, test_idx) in enumerate(mskf.split(data_clean, data_clean[labels])):\n",
    "    print(f'\\n--- Fold {fold+1} ---')\n",
    "    train_df = data_clean.iloc[train_idx]\n",
    "    test_df = data_clean.iloc[test_idx]\n",
    "\n",
    "    train_loader, test_loader = prepare_dataloaders(train_df, test_df, model_sbert, labels)\n",
    "    fold_results = train_and_evaluate(train_loader, test_loader, 312, len(labels))\n",
    "    results_per_fold.append(fold_results)\n",
    "\n",
    "    model = train_model(train_loader, 312, len(labels))\n",
    "    train_preds, train_labels = predict_model(model, train_loader)\n",
    "    last_model = model\n",
    "    last_thresholds, _ = optimize_f1_thresholds(train_labels, train_preds)  "
   ]
  },
  {
   "cell_type": "markdown",
   "id": "c662d642",
   "metadata": {},
   "source": [
    "### Вывод результатов оценки"
   ]
  },
  {
   "cell_type": "code",
   "execution_count": 25,
   "id": "18e95f59",
   "metadata": {},
   "outputs": [
    {
     "name": "stdout",
     "output_type": "stream",
     "text": [
      "\n",
      "--- Average results ---\n",
      "Train Micro AUC: 0.972368670902967\n",
      "Test Micro AUC: 0.9651991958782629\n",
      "Train Micro F1: 0.8760593023447155\n",
      "Test Micro F1: 0.8551704787830909\n"
     ]
    }
   ],
   "source": [
    "print('\\n--- Average results ---')\n",
    "print('Train Micro AUC:', np.mean([r['train_micro_auc'] for r in results_per_fold]))\n",
    "print('Test Micro AUC:', np.mean([r['test_micro_auc'] for r in results_per_fold]))\n",
    "print('Train Micro F1:', np.mean([r['train_micro_f1'] for r in results_per_fold]))\n",
    "print('Test Micro F1:', np.mean([r['test_micro_f1'] for r in results_per_fold]))"
   ]
  },
  {
   "cell_type": "markdown",
   "id": "68440458",
   "metadata": {},
   "source": [
    "### Сохранение модели"
   ]
  },
  {
   "cell_type": "code",
   "execution_count": 26,
   "id": "884aeb7e",
   "metadata": {},
   "outputs": [],
   "source": [
    "torch.save(last_model.state_dict(), 'final_model.pth')"
   ]
  },
  {
   "cell_type": "markdown",
   "id": "e835ee53",
   "metadata": {},
   "source": [
    "## Ручное предсказание по новому отзыву"
   ]
  },
  {
   "cell_type": "markdown",
   "id": "4afb6dc2",
   "metadata": {},
   "source": [
    "### Функция предсказания по новому отзыву"
   ]
  },
  {
   "cell_type": "code",
   "execution_count": 27,
   "id": "9760f4ed",
   "metadata": {},
   "outputs": [],
   "source": [
    "def predict_single_text(text, model, sbert_model, thresholds, label_list):\n",
    "    model.eval()\n",
    "    with torch.no_grad():\n",
    "        emb = sbert_model.encode(text, convert_to_tensor=True).unsqueeze(0)  # добавляем batch dimension\n",
    "        preds = model(emb).cpu().numpy()[0]\n",
    "        preds_bin = (preds >= thresholds).astype(int)\n",
    "        predicted_tags = [label for label, pred in zip(label_list, preds_bin) if pred == 1]\n",
    "    return predicted_tags, preds"
   ]
  },
  {
   "cell_type": "markdown",
   "id": "498a188d",
   "metadata": {},
   "source": [
    "### Вывод результатов предсказания"
   ]
  },
  {
   "cell_type": "code",
   "execution_count": null,
   "id": "bf1a21c4",
   "metadata": {},
   "outputs": [
    {
     "name": "stdout",
     "output_type": "stream",
     "text": [
      "Текст: оперативно приехали, все хорошо\n",
      "Предсказанные теги: ['Вопрос решен', 'Нравится скорость отработки заявок']\n",
      "Raw scores: [9.9911302e-01 6.8695456e-02 2.5429146e-02 9.0356541e-01 8.5563302e-02\n",
      " 6.8349228e-04]\n"
     ]
    }
   ],
   "source": [
    "new_text = \"оперативно приехали, все хорошо\"\n",
    "\n",
    "predicted_tags, raw_scores = predict_single_text(new_text, last_model, model_sbert, last_thresholds, labels)\n",
    "\n",
    "print(f\"Текст: {new_text}\")\n",
    "print(f\"Предсказанные теги: {predicted_tags}\")\n",
    "print(f\"Raw scores: {raw_scores}\")"
   ]
  },
  {
   "cell_type": "markdown",
   "id": "b6bcb4f6",
   "metadata": {},
   "source": [
    "### График ROC-AUC кривых"
   ]
  },
  {
   "cell_type": "code",
   "execution_count": 40,
   "id": "8f9839c8",
   "metadata": {},
   "outputs": [],
   "source": [
    "from sklearn.metrics import roc_curve, auc\n",
    "def plot_multilabel_roc(labels, preds, class_names=None):\n",
    "    n_classes = labels.shape[1]\n",
    "    plt.figure(figsize=(10, 7))\n",
    "\n",
    "    for i in range(n_classes):\n",
    "        fpr, tpr, _ = roc_curve(labels[:, i], preds[:, i])\n",
    "        roc_auc = auc(fpr, tpr)\n",
    "        label = f'{class_names[i] if class_names else f\"Class {i}\"} (AUC = {roc_auc:.2f})'\n",
    "        plt.plot(fpr, tpr, lw=2, label=label)\n",
    "\n",
    "    plt.plot([0, 1], [0, 1], 'k--', lw=2)\n",
    "    plt.xlim([-0.05, 1.0])\n",
    "    plt.ylim([0.0, 1.05])\n",
    "    plt.xlabel('False Positive Rate')\n",
    "    plt.ylabel('True Positive Rate')\n",
    "    plt.title(f'ROC-AUC кривые для каждого класса (MultiLabelClassifier(torch)')\n",
    "    plt.legend(loc=\"lower right\")\n",
    "    plt.grid()\n",
    "    plt.show()"
   ]
  },
  {
   "cell_type": "code",
   "execution_count": null,
   "id": "10088591",
   "metadata": {},
   "outputs": [
    {
     "data": {
      "image/png": "[encoded data removed]",
      "text/plain": [
       "<Figure size 1000x700 with 1 Axes>"
      ]
     },
     "metadata": {},
     "output_type": "display_data"
    }
   ],
   "source": [
    "plot_multilabel_roc(train_labels, train_preds, class_names=labels)"
   ]
  }
 ],
 "metadata": {
  "kernelspec": {
   "display_name": "Python 3",
   "language": "python",
   "name": "python3"
  },
  "language_info": {
   "codemirror_mode": {
    "name": "ipython",
    "version": 3
   },
   "file_extension": ".py",
   "mimetype": "text/x-python",
   "name": "python",
   "nbconvert_exporter": "python",
   "pygments_lexer": "ipython3",
   "version": "3.11.9"
  }
 },
 "nbformat": 4,
 "nbformat_minor": 5
}
